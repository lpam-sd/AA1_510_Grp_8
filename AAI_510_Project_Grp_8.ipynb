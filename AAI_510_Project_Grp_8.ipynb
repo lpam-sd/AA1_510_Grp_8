{
 "cells": [
  {
   "cell_type": "markdown",
   "metadata": {
    "id": "4kYx9Zb4tGNw"
   },
   "source": [
    "## Crime Patterns Recognition in LA region project\n",
    "### Manikanta Katuri and Lakshmi Deepti Pamula - AAI-510 Group 8 "
   ]
  },
  {
   "cell_type": "markdown",
   "metadata": {},
   "source": [
    "## Business Goal\n",
    "#### The primary business objective of recognizing crime patterns in the Los Angeles region is to assist law enforcement in identifying crime severity, geographic hotspots, and demographic trends based on age and gender. This enables more effective resource allocation and policy development. A secondary goal is to support public safety initiatives by highlighting high-crime areas and time periods for better community awareness and prevention strategies."
   ]
  },
  {
   "cell_type": "markdown",
   "metadata": {
    "id": "RQor3GuQYioW"
   },
   "source": [
    "## Loading the data"
   ]
  },
  {
   "cell_type": "code",
   "execution_count": 214,
   "metadata": {},
   "outputs": [],
   "source": [
    "#@title Loading the required libraries\n",
    "\n",
    "import numpy as np # Pandas for array manipulation\n",
    "import pandas as pd # Pandas for data manipulation\n",
    "import seaborn as sns # Seaborn for visualizing. Note: we will also use one of the data sets\n",
    "import matplotlib.pyplot as plt # Matplotlib for subplots\n",
    "%matplotlib inline\n",
    "\n",
    "from sklearn.cluster import KMeans\n",
    "from sklearn.preprocessing import StandardScaler # Import for feature standardization\n",
    "from sklearn.metrics import silhouette_samples, silhouette_score # For kmeans evaluation\n",
    "from sklearn.datasets import load_wine # Used to pull in wine data\n",
    "\n",
    "pd.options.display.float_format = '{:.2f}'.format\n",
    "pd.set_option('display.max_columns', 500)"
   ]
  },
  {
   "cell_type": "code",
   "execution_count": 215,
   "metadata": {},
   "outputs": [
    {
     "name": "stdout",
     "output_type": "stream",
     "text": [
      "Shape of the dataframe (row, col): (1005101, 28) \n",
      "\n"
     ]
    },
    {
     "data": {
      "text/html": [
       "<div>\n",
       "<style scoped>\n",
       "    .dataframe tbody tr th:only-of-type {\n",
       "        vertical-align: middle;\n",
       "    }\n",
       "\n",
       "    .dataframe tbody tr th {\n",
       "        vertical-align: top;\n",
       "    }\n",
       "\n",
       "    .dataframe thead th {\n",
       "        text-align: right;\n",
       "    }\n",
       "</style>\n",
       "<table border=\"1\" class=\"dataframe\">\n",
       "  <thead>\n",
       "    <tr style=\"text-align: right;\">\n",
       "      <th></th>\n",
       "      <th>DR_NO</th>\n",
       "      <th>Date Rptd</th>\n",
       "      <th>DATE OCC</th>\n",
       "      <th>TIME OCC</th>\n",
       "      <th>AREA</th>\n",
       "      <th>AREA NAME</th>\n",
       "      <th>Rpt Dist No</th>\n",
       "      <th>Part 1-2</th>\n",
       "      <th>Crm Cd</th>\n",
       "      <th>Crm Cd Desc</th>\n",
       "      <th>Mocodes</th>\n",
       "      <th>Vict Age</th>\n",
       "      <th>Vict Sex</th>\n",
       "      <th>Vict Descent</th>\n",
       "      <th>Premis Cd</th>\n",
       "      <th>Premis Desc</th>\n",
       "      <th>Weapon Used Cd</th>\n",
       "      <th>Weapon Desc</th>\n",
       "      <th>Status</th>\n",
       "      <th>Status Desc</th>\n",
       "      <th>Crm Cd 1</th>\n",
       "      <th>Crm Cd 2</th>\n",
       "      <th>Crm Cd 3</th>\n",
       "      <th>Crm Cd 4</th>\n",
       "      <th>LOCATION</th>\n",
       "      <th>Cross Street</th>\n",
       "      <th>LAT</th>\n",
       "      <th>LON</th>\n",
       "    </tr>\n",
       "  </thead>\n",
       "  <tbody>\n",
       "    <tr>\n",
       "      <th>0</th>\n",
       "      <td>190326475</td>\n",
       "      <td>03/01/2020 12:00:00 AM</td>\n",
       "      <td>03/01/2020 12:00:00 AM</td>\n",
       "      <td>2130</td>\n",
       "      <td>7</td>\n",
       "      <td>Wilshire</td>\n",
       "      <td>784</td>\n",
       "      <td>1</td>\n",
       "      <td>510</td>\n",
       "      <td>VEHICLE - STOLEN</td>\n",
       "      <td>NaN</td>\n",
       "      <td>0</td>\n",
       "      <td>M</td>\n",
       "      <td>O</td>\n",
       "      <td>101.00</td>\n",
       "      <td>STREET</td>\n",
       "      <td>NaN</td>\n",
       "      <td>NaN</td>\n",
       "      <td>AA</td>\n",
       "      <td>Adult Arrest</td>\n",
       "      <td>510.00</td>\n",
       "      <td>998.00</td>\n",
       "      <td>NaN</td>\n",
       "      <td>NaN</td>\n",
       "      <td>1900 S  LONGWOOD                     AV</td>\n",
       "      <td>NaN</td>\n",
       "      <td>34.04</td>\n",
       "      <td>-118.35</td>\n",
       "    </tr>\n",
       "    <tr>\n",
       "      <th>1</th>\n",
       "      <td>200106753</td>\n",
       "      <td>02/09/2020 12:00:00 AM</td>\n",
       "      <td>02/08/2020 12:00:00 AM</td>\n",
       "      <td>1800</td>\n",
       "      <td>1</td>\n",
       "      <td>Central</td>\n",
       "      <td>182</td>\n",
       "      <td>1</td>\n",
       "      <td>330</td>\n",
       "      <td>BURGLARY FROM VEHICLE</td>\n",
       "      <td>1822 1402 0344</td>\n",
       "      <td>47</td>\n",
       "      <td>M</td>\n",
       "      <td>O</td>\n",
       "      <td>128.00</td>\n",
       "      <td>BUS STOP/LAYOVER (ALSO QUERY 124)</td>\n",
       "      <td>NaN</td>\n",
       "      <td>NaN</td>\n",
       "      <td>IC</td>\n",
       "      <td>Invest Cont</td>\n",
       "      <td>330.00</td>\n",
       "      <td>998.00</td>\n",
       "      <td>NaN</td>\n",
       "      <td>NaN</td>\n",
       "      <td>1000 S  FLOWER                       ST</td>\n",
       "      <td>NaN</td>\n",
       "      <td>34.04</td>\n",
       "      <td>-118.26</td>\n",
       "    </tr>\n",
       "    <tr>\n",
       "      <th>2</th>\n",
       "      <td>200320258</td>\n",
       "      <td>11/11/2020 12:00:00 AM</td>\n",
       "      <td>11/04/2020 12:00:00 AM</td>\n",
       "      <td>1700</td>\n",
       "      <td>3</td>\n",
       "      <td>Southwest</td>\n",
       "      <td>356</td>\n",
       "      <td>1</td>\n",
       "      <td>480</td>\n",
       "      <td>BIKE - STOLEN</td>\n",
       "      <td>0344 1251</td>\n",
       "      <td>19</td>\n",
       "      <td>X</td>\n",
       "      <td>X</td>\n",
       "      <td>502.00</td>\n",
       "      <td>MULTI-UNIT DWELLING (APARTMENT, DUPLEX, ETC)</td>\n",
       "      <td>NaN</td>\n",
       "      <td>NaN</td>\n",
       "      <td>IC</td>\n",
       "      <td>Invest Cont</td>\n",
       "      <td>480.00</td>\n",
       "      <td>NaN</td>\n",
       "      <td>NaN</td>\n",
       "      <td>NaN</td>\n",
       "      <td>1400 W  37TH                         ST</td>\n",
       "      <td>NaN</td>\n",
       "      <td>34.02</td>\n",
       "      <td>-118.30</td>\n",
       "    </tr>\n",
       "    <tr>\n",
       "      <th>3</th>\n",
       "      <td>200907217</td>\n",
       "      <td>05/10/2023 12:00:00 AM</td>\n",
       "      <td>03/10/2020 12:00:00 AM</td>\n",
       "      <td>2037</td>\n",
       "      <td>9</td>\n",
       "      <td>Van Nuys</td>\n",
       "      <td>964</td>\n",
       "      <td>1</td>\n",
       "      <td>343</td>\n",
       "      <td>SHOPLIFTING-GRAND THEFT ($950.01 &amp; OVER)</td>\n",
       "      <td>0325 1501</td>\n",
       "      <td>19</td>\n",
       "      <td>M</td>\n",
       "      <td>O</td>\n",
       "      <td>405.00</td>\n",
       "      <td>CLOTHING STORE</td>\n",
       "      <td>NaN</td>\n",
       "      <td>NaN</td>\n",
       "      <td>IC</td>\n",
       "      <td>Invest Cont</td>\n",
       "      <td>343.00</td>\n",
       "      <td>NaN</td>\n",
       "      <td>NaN</td>\n",
       "      <td>NaN</td>\n",
       "      <td>14000    RIVERSIDE                    DR</td>\n",
       "      <td>NaN</td>\n",
       "      <td>34.16</td>\n",
       "      <td>-118.44</td>\n",
       "    </tr>\n",
       "    <tr>\n",
       "      <th>4</th>\n",
       "      <td>200412582</td>\n",
       "      <td>09/09/2020 12:00:00 AM</td>\n",
       "      <td>09/09/2020 12:00:00 AM</td>\n",
       "      <td>630</td>\n",
       "      <td>4</td>\n",
       "      <td>Hollenbeck</td>\n",
       "      <td>413</td>\n",
       "      <td>1</td>\n",
       "      <td>510</td>\n",
       "      <td>VEHICLE - STOLEN</td>\n",
       "      <td>NaN</td>\n",
       "      <td>0</td>\n",
       "      <td>NaN</td>\n",
       "      <td>NaN</td>\n",
       "      <td>101.00</td>\n",
       "      <td>STREET</td>\n",
       "      <td>NaN</td>\n",
       "      <td>NaN</td>\n",
       "      <td>IC</td>\n",
       "      <td>Invest Cont</td>\n",
       "      <td>510.00</td>\n",
       "      <td>NaN</td>\n",
       "      <td>NaN</td>\n",
       "      <td>NaN</td>\n",
       "      <td>200 E  AVENUE 28</td>\n",
       "      <td>NaN</td>\n",
       "      <td>34.08</td>\n",
       "      <td>-118.21</td>\n",
       "    </tr>\n",
       "  </tbody>\n",
       "</table>\n",
       "</div>"
      ],
      "text/plain": [
       "       DR_NO               Date Rptd                DATE OCC  TIME OCC  AREA  \\\n",
       "0  190326475  03/01/2020 12:00:00 AM  03/01/2020 12:00:00 AM      2130     7   \n",
       "1  200106753  02/09/2020 12:00:00 AM  02/08/2020 12:00:00 AM      1800     1   \n",
       "2  200320258  11/11/2020 12:00:00 AM  11/04/2020 12:00:00 AM      1700     3   \n",
       "3  200907217  05/10/2023 12:00:00 AM  03/10/2020 12:00:00 AM      2037     9   \n",
       "4  200412582  09/09/2020 12:00:00 AM  09/09/2020 12:00:00 AM       630     4   \n",
       "\n",
       "    AREA NAME  Rpt Dist No  Part 1-2  Crm Cd  \\\n",
       "0    Wilshire          784         1     510   \n",
       "1     Central          182         1     330   \n",
       "2   Southwest          356         1     480   \n",
       "3    Van Nuys          964         1     343   \n",
       "4  Hollenbeck          413         1     510   \n",
       "\n",
       "                                Crm Cd Desc         Mocodes  Vict Age  \\\n",
       "0                          VEHICLE - STOLEN             NaN         0   \n",
       "1                     BURGLARY FROM VEHICLE  1822 1402 0344        47   \n",
       "2                             BIKE - STOLEN       0344 1251        19   \n",
       "3  SHOPLIFTING-GRAND THEFT ($950.01 & OVER)       0325 1501        19   \n",
       "4                          VEHICLE - STOLEN             NaN         0   \n",
       "\n",
       "  Vict Sex Vict Descent  Premis Cd  \\\n",
       "0        M            O     101.00   \n",
       "1        M            O     128.00   \n",
       "2        X            X     502.00   \n",
       "3        M            O     405.00   \n",
       "4      NaN          NaN     101.00   \n",
       "\n",
       "                                    Premis Desc  Weapon Used Cd Weapon Desc  \\\n",
       "0                                        STREET             NaN         NaN   \n",
       "1             BUS STOP/LAYOVER (ALSO QUERY 124)             NaN         NaN   \n",
       "2  MULTI-UNIT DWELLING (APARTMENT, DUPLEX, ETC)             NaN         NaN   \n",
       "3                                CLOTHING STORE             NaN         NaN   \n",
       "4                                        STREET             NaN         NaN   \n",
       "\n",
       "  Status   Status Desc  Crm Cd 1  Crm Cd 2  Crm Cd 3  Crm Cd 4  \\\n",
       "0     AA  Adult Arrest    510.00    998.00       NaN       NaN   \n",
       "1     IC   Invest Cont    330.00    998.00       NaN       NaN   \n",
       "2     IC   Invest Cont    480.00       NaN       NaN       NaN   \n",
       "3     IC   Invest Cont    343.00       NaN       NaN       NaN   \n",
       "4     IC   Invest Cont    510.00       NaN       NaN       NaN   \n",
       "\n",
       "                                   LOCATION Cross Street   LAT     LON  \n",
       "0   1900 S  LONGWOOD                     AV          NaN 34.04 -118.35  \n",
       "1   1000 S  FLOWER                       ST          NaN 34.04 -118.26  \n",
       "2   1400 W  37TH                         ST          NaN 34.02 -118.30  \n",
       "3  14000    RIVERSIDE                    DR          NaN 34.16 -118.44  \n",
       "4                          200 E  AVENUE 28          NaN 34.08 -118.21  "
      ]
     },
     "execution_count": 215,
     "metadata": {},
     "output_type": "execute_result"
    }
   ],
   "source": [
    "## Importing the required  libraries\n",
    "import seaborn as sns\n",
    "import pandas as pd\n",
    "import matplotlib.pyplot as plt #to allow subplot creation\n",
    "\n",
    "# Apply the seaborn theme\n",
    "sns.set_theme() #overwrite default Matplotlib styling parameters\n",
    "\n",
    "#List the example datasets available in seaborn\n",
    "names = sns.get_dataset_names()\n",
    "##print(\"\\r\\nDatasets in Seaborn: \\r\\n\",names,\"\\r\\n\")\n",
    "\n",
    "\n",
    "# Load train dataset\n",
    "df = pd.read_csv(\"Crime_Data_from_2020_to_Present.csv\")  \n",
    "shap = df.shape\n",
    "print(\"Shape of the dataframe (row, col):\",shap,\"\\r\\n\")\n",
    "\n",
    "# Show the dataframe\n",
    "df.head()"
   ]
  },
  {
   "cell_type": "markdown",
   "metadata": {
    "id": "I9TeCMXAZFcI"
   },
   "source": [
    "## 1. Initial Data Exploration and Summary Statistics"
   ]
  },
  {
   "cell_type": "code",
   "execution_count": 216,
   "metadata": {
    "colab": {
     "base_uri": "https://localhost:8080/"
    },
    "id": "Z2kJTELiZKh3",
    "outputId": "7e5d7d2a-d8ed-4693-8bc3-a7a30a4b3aba"
   },
   "outputs": [
    {
     "name": "stdout",
     "output_type": "stream",
     "text": [
      "Dataset Overview:\n",
      "Number of samples: 1005101\n",
      "Number of features: 28\n",
      "\n",
      "Numerical Summary:\n",
      "             DR_NO   TIME OCC       AREA  Rpt Dist No   Part 1-2     Crm Cd  \\\n",
      "count   1005101.00 1005101.00 1005101.00   1005101.00 1005101.00 1005101.00   \n",
      "mean  220224858.64    1339.91      10.69      1115.58       1.40     500.16   \n",
      "std    13200269.98     651.05       6.11       611.17       0.49     205.26   \n",
      "min         817.00       1.00       1.00       101.00       1.00     110.00   \n",
      "25%   210616891.00     900.00       5.00       587.00       1.00     331.00   \n",
      "50%   220915983.00    1420.00      11.00      1139.00       1.00     442.00   \n",
      "75%   231110413.00    1900.00      16.00      1613.00       2.00     626.00   \n",
      "max   252104146.00    2359.00      21.00      2199.00       2.00     956.00   \n",
      "\n",
      "        Vict Age  Premis Cd  Weapon Used Cd   Crm Cd 1  Crm Cd 2  Crm Cd 3  \\\n",
      "count 1005101.00 1005085.00       327256.00 1005090.00  69156.00   2314.00   \n",
      "mean       28.91     305.62          363.96     499.92    958.10    984.02   \n",
      "std        21.99     219.31          123.73     205.06    110.36     52.35   \n",
      "min        -4.00     101.00          101.00     110.00    210.00    310.00   \n",
      "25%         0.00     101.00          311.00     331.00    998.00    998.00   \n",
      "50%        30.00     203.00          400.00     442.00    998.00    998.00   \n",
      "75%        44.00     501.00          400.00     626.00    998.00    998.00   \n",
      "max       120.00     976.00          516.00     956.00    999.00    999.00   \n",
      "\n",
      "       Crm Cd 4        LAT        LON  \n",
      "count     64.00 1005101.00 1005101.00  \n",
      "mean     991.22      34.00    -118.09  \n",
      "std       27.07       1.61       5.58  \n",
      "min      821.00       0.00    -118.67  \n",
      "25%      998.00      34.01    -118.43  \n",
      "50%      998.00      34.06    -118.32  \n",
      "75%      998.00      34.16    -118.27  \n",
      "max      999.00      34.33       0.00  \n"
     ]
    }
   ],
   "source": [
    "def generate_summary_statistics(df):\n",
    "    \"\"\"\n",
    "    Generate comprehensive summary statistics for the dataset.\n",
    "\n",
    "    Parameters:\n",
    "    df (pandas.DataFrame): Input DataFrame\n",
    "\n",
    "    Returns:\n",
    "    dict: Dictionary containing various summary statistics\n",
    "    \"\"\"\n",
    "    summary = {\n",
    "        'basic_info': {\n",
    "            'rows': df.shape[0],\n",
    "            'columns': df.shape[1],\n",
    "            'dtypes': df.dtypes.to_dict()\n",
    "        },\n",
    "        'numerical_summary': df.describe(),\n",
    "        'categorical_summary': df.select_dtypes(include=['object']).describe(),\n",
    "        'memory_usage': df.memory_usage(deep=True).sum() / 1024**2  # in MB\n",
    "    }\n",
    "\n",
    "    return summary\n",
    "\n",
    "# Example usage with Iris dataset\n",
    "summary_stats = generate_summary_statistics(df)\n",
    "print(\"Dataset Overview:\")\n",
    "print(f\"Number of samples: {summary_stats['basic_info']['rows']}\")\n",
    "print(f\"Number of features: {summary_stats['basic_info']['columns']}\")\n",
    "print(\"\\nNumerical Summary:\")\n",
    "print(summary_stats['numerical_summary'])"
   ]
  },
  {
   "cell_type": "markdown",
   "metadata": {},
   "source": [
    "#### The dataset being used has about a million records with 28 features. Key information that will be used in Clustering are Time based attriutes like Time of crime occurence, Location based feature like Latitude(LAT) and Longitude (LONGITUDE), gender based features like Victim's sex, age based features like Victime age and severity of a crime (Part 1-2), Crime code desc, Premise description. Upon missing data evaluation we will proceed to see  which stratigeis (imputation or dropping) can be applied."
   ]
  },
  {
   "cell_type": "markdown",
   "metadata": {
    "id": "PfImxa2AaFjC"
   },
   "source": [
    "## 2. Missing values\n"
   ]
  },
  {
   "cell_type": "code",
   "execution_count": 217,
   "metadata": {
    "colab": {
     "base_uri": "https://localhost:8080/",
     "height": 883
    },
    "id": "g_0eQMZNaJrz",
    "outputId": "a21e3b71-77a2-4b77-b15d-6fec1ca648b2"
   },
   "outputs": [
    {
     "name": "stdout",
     "output_type": "stream",
     "text": [
      "\n",
      "Missing Value Summary:\n",
      "                missing_count  missing_percentage data_type\n",
      "DR_NO                       0                0.00     int64\n",
      "Date Rptd                   0                0.00    object\n",
      "DATE OCC                    0                0.00    object\n",
      "TIME OCC                    0                0.00     int64\n",
      "AREA                        0                0.00     int64\n",
      "AREA NAME                   0                0.00    object\n",
      "Rpt Dist No                 0                0.00     int64\n",
      "Part 1-2                    0                0.00     int64\n",
      "Crm Cd                      0                0.00     int64\n",
      "Crm Cd Desc                 0                0.00    object\n",
      "Mocodes                151706               15.09    object\n",
      "Vict Age                    0                0.00     int64\n",
      "Vict Sex               144730               14.40    object\n",
      "Vict Descent           144742               14.40    object\n",
      "Premis Cd                  16                0.00   float64\n",
      "Premis Desc               588                0.06    object\n",
      "Weapon Used Cd         677845               67.44   float64\n",
      "Weapon Desc            677845               67.44    object\n",
      "Status                      1                0.00    object\n",
      "Status Desc                 0                0.00    object\n",
      "Crm Cd 1                   11                0.00   float64\n",
      "Crm Cd 2               935945               93.12   float64\n",
      "Crm Cd 3              1002787               99.77   float64\n",
      "Crm Cd 4              1005037               99.99   float64\n",
      "LOCATION                    0                0.00    object\n",
      "Cross Street           850864               84.65    object\n",
      "LAT                         0                0.00   float64\n",
      "LON                         0                0.00   float64\n",
      "\n",
      "Missing Values by Location (%):\n",
      "                                       Premis Cd  Weapon Used Cd  Crm Cd 1  \\\n",
      "LOCATION                                                                     \n",
      "00    17TH                                  0.00          100.00      0.00   \n",
      "00    17TH                         AV       0.00          100.00      0.00   \n",
      "00    17TH                         PL       0.00          100.00      0.00   \n",
      "00    18TH                         AV       0.00           63.64      0.00   \n",
      "00    18TH                         PL       0.00          100.00      0.00   \n",
      "...                                          ...             ...       ...   \n",
      "ZONAL                                       0.00           60.00      0.00   \n",
      "ZONAL                        AV             0.00           50.00      0.00   \n",
      "ZONAL                        ST             0.00          100.00      0.00   \n",
      "ZOO                                         0.00           66.67      0.00   \n",
      "ZOO                          DR             0.00           83.33      0.00   \n",
      "\n",
      "                                       Crm Cd 2  Crm Cd 3  Crm Cd 4  LAT  LON  \n",
      "LOCATION                                                                       \n",
      "00    17TH                               100.00    100.00    100.00 0.00 0.00  \n",
      "00    17TH                         AV    100.00    100.00    100.00 0.00 0.00  \n",
      "00    17TH                         PL    100.00    100.00    100.00 0.00 0.00  \n",
      "00    18TH                         AV    100.00    100.00    100.00 0.00 0.00  \n",
      "00    18TH                         PL    100.00    100.00    100.00 0.00 0.00  \n",
      "...                                         ...       ...       ...  ...  ...  \n",
      "ZONAL                                     80.00    100.00    100.00 0.00 0.00  \n",
      "ZONAL                        AV          100.00    100.00    100.00 0.00 0.00  \n",
      "ZONAL                        ST          100.00    100.00    100.00 0.00 0.00  \n",
      "ZOO                                      100.00    100.00    100.00 0.00 0.00  \n",
      "ZOO                          DR           91.67    100.00    100.00 0.00 0.00  \n",
      "\n",
      "[66566 rows x 8 columns]\n"
     ]
    },
    {
     "data": {
      "image/png": "[encoded data removed]",
      "text/plain": [
       "<Figure size 1000x600 with 1 Axes>"
      ]
     },
     "metadata": {},
     "output_type": "display_data"
    }
   ],
   "source": [
    "def analyze_missing_values(df):\n",
    "    \"\"\"\n",
    "    Perform comprehensive missing value analysis.\n",
    "\n",
    "    Parameters:\n",
    "    df (pandas.DataFrame): Input DataFrame\n",
    "\n",
    "    Returns:\n",
    "    dict: Dictionary containing various missing value analyses\n",
    "    \"\"\"\n",
    "    # Basic missing value statistics\n",
    "    missing_info = pd.DataFrame({\n",
    "        'missing_count': df.isnull().sum(),\n",
    "        'missing_percentage': (df.isnull().sum() / len(df) * 100).round(2),\n",
    "        'data_type': df.dtypes\n",
    "    })\n",
    "\n",
    "    # Missing value patterns by location\n",
    "    missing_by_location = pd.DataFrame({\n",
    "        col: df.groupby('LOCATION')[col].apply(lambda x: x.isnull().mean() * 100).round(2)\n",
    "        for col in df.select_dtypes(include=['float64']).columns\n",
    "    })\n",
    "\n",
    "    # Analyze missing value relationships\n",
    "    missing_correlations = df.isnull().corr()\n",
    "\n",
    "    # Create visualization of missing values using seaborn\n",
    "    plt.figure(figsize=(10, 6))\n",
    "    sns.heatmap(df.isnull(), yticklabels=False, cbar=False, cmap='viridis')\n",
    "    plt.title('Missing Value Patterns')\n",
    "    plt.tight_layout()\n",
    "\n",
    "    return {\n",
    "        'missing_summary': missing_info,\n",
    "        'missing_by_location': missing_by_location,\n",
    "        'missing_correlations': missing_correlations\n",
    "    }\n",
    "\n",
    "# Example usage\n",
    "missing_analysis = analyze_missing_values(df)\n",
    "print(\"\\nMissing Value Summary:\")\n",
    "print(missing_analysis['missing_summary'])\n",
    "print(\"\\nMissing Values by Location (%):\")\n",
    "print(missing_analysis['missing_by_location'])"
   ]
  },
  {
   "cell_type": "markdown",
   "metadata": {},
   "source": [
    "#### From the missing data pattern above we see that  attributes Weapon Used Cd, Weapon Desc, Crime Cd2, 3,4 have have higher percentage of  missing data along with few others. Missing Weapon Cd/Desc is acceptable as not every crime involves a  weapon. Crimes like Vehicle theft, vandalism, shop lifting dont involve a weapon. We would still need this field but we cant use any imputation tecnhique to fill in the weapon information but instead will use a default 'No Weapon'. Since we have Crime cd 1 present for all records, the rest of the Crime codes fields can be ignored for the analyis"
   ]
  },
  {
   "cell_type": "markdown",
   "metadata": {
    "id": "4YhbfQqgaWwZ"
   },
   "source": [
    "## 3. Correlation overview\n"
   ]
  },
  {
   "cell_type": "code",
   "execution_count": 218,
   "metadata": {},
   "outputs": [
    {
     "data": {
      "image/png": "[encoded data removed]",
      "text/plain": [
       "<Figure size 1800x800 with 4 Axes>"
      ]
     },
     "metadata": {},
     "output_type": "display_data"
    },
    {
     "name": "stdout",
     "output_type": "stream",
     "text": [
      "\n",
      "Value Correlations:\n",
      "                DR_NO  TIME OCC  AREA  Rpt Dist No  Part 1-2  Crm Cd  \\\n",
      "DR_NO            1.00     -0.00  0.03         0.03     -0.04   -0.02   \n",
      "TIME OCC        -0.00      1.00  0.00         0.00     -0.06    0.01   \n",
      "AREA             0.03      0.00  1.00         1.00      0.01   -0.01   \n",
      "Rpt Dist No      0.03      0.00  1.00         1.00      0.01   -0.01   \n",
      "Part 1-2        -0.04     -0.06  0.01         0.01      1.00    0.70   \n",
      "Crm Cd          -0.02      0.01 -0.01        -0.01      0.70    1.00   \n",
      "Vict Age        -0.07     -0.04  0.02         0.02      0.21   -0.02   \n",
      "Premis Cd        0.03     -0.06 -0.01        -0.01      0.28    0.12   \n",
      "Weapon Used Cd   0.02     -0.01 -0.02        -0.02      0.43    0.37   \n",
      "Crm Cd 1        -0.02      0.01 -0.01        -0.01      0.70    1.00   \n",
      "Crm Cd 2         0.03      0.01 -0.04        -0.04      0.08    0.00   \n",
      "Crm Cd 3         0.03     -0.01  0.04         0.04      0.01    0.12   \n",
      "Crm Cd 4         0.15     -0.03  0.16         0.16      0.10    0.04   \n",
      "LAT              0.05      0.00  0.03         0.03     -0.03   -0.04   \n",
      "LON             -0.05     -0.00 -0.01        -0.01      0.03    0.04   \n",
      "\n",
      "                Vict Age  Premis Cd  Weapon Used Cd  Crm Cd 1  Crm Cd 2  \\\n",
      "DR_NO              -0.07       0.03            0.02     -0.02      0.03   \n",
      "TIME OCC           -0.04      -0.06           -0.01      0.01      0.01   \n",
      "AREA                0.02      -0.01           -0.02     -0.01     -0.04   \n",
      "Rpt Dist No         0.02      -0.01           -0.02     -0.01     -0.04   \n",
      "Part 1-2            0.21       0.28            0.43      0.70      0.08   \n",
      "Crm Cd             -0.02       0.12            0.37      1.00      0.00   \n",
      "Vict Age            1.00       0.19            0.08     -0.02     -0.02   \n",
      "Premis Cd           0.19       1.00            0.21      0.12     -0.06   \n",
      "Weapon Used Cd      0.08       0.21            1.00      0.37     -0.15   \n",
      "Crm Cd 1           -0.02       0.12            0.37      1.00      0.02   \n",
      "Crm Cd 2           -0.02      -0.06           -0.15      0.02      1.00   \n",
      "Crm Cd 3           -0.01      -0.01           -0.06      0.16      0.30   \n",
      "Crm Cd 4           -0.00      -0.00            0.03     -0.03      0.02   \n",
      "LAT                -0.00      -0.01           -0.01     -0.04     -0.02   \n",
      "LON                 0.00       0.01            0.01      0.04      0.02   \n",
      "\n",
      "                Crm Cd 3  Crm Cd 4   LAT   LON  \n",
      "DR_NO               0.03      0.15  0.05 -0.05  \n",
      "TIME OCC           -0.01     -0.03  0.00 -0.00  \n",
      "AREA                0.04      0.16  0.03 -0.01  \n",
      "Rpt Dist No         0.04      0.16  0.03 -0.01  \n",
      "Part 1-2            0.01      0.10 -0.03  0.03  \n",
      "Crm Cd              0.12      0.04 -0.04  0.04  \n",
      "Vict Age           -0.01     -0.00 -0.00  0.00  \n",
      "Premis Cd          -0.01     -0.00 -0.01  0.01  \n",
      "Weapon Used Cd     -0.06      0.03 -0.01  0.01  \n",
      "Crm Cd 1            0.16     -0.03 -0.04  0.04  \n",
      "Crm Cd 2            0.30      0.02 -0.02  0.02  \n",
      "Crm Cd 3            1.00      0.16  0.02 -0.03  \n",
      "Crm Cd 4            0.16      1.00  0.10 -0.18  \n",
      "LAT                 0.02      0.10  1.00 -1.00  \n",
      "LON                -0.03     -0.18 -1.00  1.00  \n"
     ]
    }
   ],
   "source": [
    "import pandas as pd\n",
    "import matplotlib.pyplot as plt\n",
    "import seaborn as sns\n",
    "import numpy as np\n",
    "\n",
    "def analyze_correlations(df, method='pearson'):\n",
    "    \"\"\"\n",
    "    Analyze correlations between numerical variables, handling missing values.\n",
    "    \"\"\"\n",
    "    numerical_cols = df.select_dtypes(include=['float64', 'int64']).columns\n",
    "\n",
    "    # Correlation of actual values\n",
    "    correlation_matrix = df[numerical_cols].corr(method=method)\n",
    "    missing_correlation = df[numerical_cols].isnull().corr()\n",
    "\n",
    "    # Filtered matrices\n",
    "    threshold = 0.1\n",
    "    corr_filtered = correlation_matrix[(abs(correlation_matrix) > threshold) & (correlation_matrix != 1.0)].dropna(how='all').dropna(axis=1, how='all')\n",
    "\n",
    "    missing_corr_filtered = missing_correlation[(abs(missing_correlation) > threshold) & (missing_correlation != 1.0)].dropna(how='all').dropna(axis=1, how='all')\n",
    "\n",
    "    # Creating subplots \n",
    "    fig, axes = plt.subplots(1, 2, figsize=(18, 8))\n",
    "\n",
    "    if not corr_filtered.empty:\n",
    "        sns.heatmap(corr_filtered, cmap='coolwarm', annot=True, fmt='.2f', ax=axes[0])\n",
    "        axes[0].set_title('Filtered Value Correlations')\n",
    "    else:\n",
    "        axes[0].set_visible(False)\n",
    "\n",
    "    if not missing_corr_filtered.empty:\n",
    "        sns.heatmap(missing_corr_filtered, cmap='YlGnBu', annot=True, fmt='.2f', ax=axes[1])\n",
    "        axes[1].set_title('Filtered Missing Pattern Correlations')\n",
    "    else:\n",
    "        axes[1].set_visible(False)\n",
    "\n",
    "    plt.tight_layout()\n",
    "    plt.show()\n",
    "\n",
    "    return {\n",
    "        'value_correlations': correlation_matrix,\n",
    "        'missing_correlations': missing_correlation\n",
    "    }\n",
    "\n",
    "# Example usage\n",
    "correlations = analyze_correlations(df)\n",
    "print(\"\\nValue Correlations:\")\n",
    "print(correlations['value_correlations'])\n"
   ]
  },
  {
   "cell_type": "markdown",
   "metadata": {},
   "source": [
    "#### There is a strong correlation between following attribute and hence one of the attribute can be removed\n",
    "#### Crm Cd 2 and AREA (1.00) ->  redundant feature\n",
    "#### Rpt Dist No and AREA (1.00) -> as both represent region this seems to be redundant\n",
    "#### From the missing data correlation we can see that there is a weak correlation between weapon use and crime code 2, indicating that when crime is less severe weapon cd and  crime code 2,3 are  not recorded or likely not used. Crime cd 2,3,4 can be treated as supplementary data.\"-"
   ]
  },
  {
   "cell_type": "markdown",
   "metadata": {},
   "source": [
    "## 4. Feature Engineering"
   ]
  },
  {
   "cell_type": "markdown",
   "metadata": {},
   "source": [
    "#### The project focus on Crime patters for male or female gender for past 3 years. Dropping remaining gender records and date of crime occurence.\n",
    "#### Features like Crime cd 1 and Part1-2 has strong correlation hence dropping Crime cd 1 column\n",
    "#### Features like AREA, Premise Cd, Premise description, Cross Street are reduncat as we have LAT, LON\n",
    "#### Features like Moode, Crm D 2 ,Crm Cd3, Crm Cd 4, Rept Dist No, Weapon used, Weapon Desc , Victim Descent, Status cd, status description are irrelavant to our project focus, date reported. Hence will be dropped\n",
    "#### We Will be binning Victim Age to get more age group perspective of crime patterns and  Victim Age will then be dropped.\n",
    "#### Latitude and Longitude will be validated and invalid records will be filterd out"
   ]
  },
  {
   "cell_type": "code",
   "execution_count": 219,
   "metadata": {},
   "outputs": [
    {
     "data": {
      "text/plain": [
       "Vict Age\n",
       " 0      269316\n",
       " 30      22290\n",
       " 35      21836\n",
       " 31      21420\n",
       " 29      21345\n",
       "         ...  \n",
       " 98         71\n",
       "-2          28\n",
       "-3           6\n",
       "-4           3\n",
       " 120         1\n",
       "Name: count, Length: 104, dtype: int64"
      ]
     },
     "execution_count": 219,
     "metadata": {},
     "output_type": "execute_result"
    }
   ],
   "source": [
    "df['Vict Age'].value_counts()"
   ]
  },
  {
   "cell_type": "code",
   "execution_count": 220,
   "metadata": {},
   "outputs": [],
   "source": [
    "df.drop(df[df['Vict Age'] == 0].index, inplace=True)\n"
   ]
  },
  {
   "cell_type": "code",
   "execution_count": 221,
   "metadata": {},
   "outputs": [
    {
     "data": {
      "text/plain": [
       "Vict Sex\n",
       "M    370329\n",
       "F    354706\n",
       "X     10606\n",
       "H       112\n",
       "Name: count, dtype: int64"
      ]
     },
     "execution_count": 221,
     "metadata": {},
     "output_type": "execute_result"
    }
   ],
   "source": [
    "df['Vict Sex'].value_counts()"
   ]
  },
  {
   "cell_type": "code",
   "execution_count": 222,
   "metadata": {},
   "outputs": [],
   "source": [
    "# Keep only rows where 'Vict Sex' is either 'M' or 'F'\n",
    "df = df[df['Vict Sex'].isin(['M', 'F'])]\n"
   ]
  },
  {
   "cell_type": "code",
   "execution_count": 223,
   "metadata": {},
   "outputs": [
    {
     "name": "stdout",
     "output_type": "stream",
     "text": [
      "725035\n"
     ]
    }
   ],
   "source": [
    "print(len(df))  # Total number of rows\n"
   ]
  },
  {
   "cell_type": "code",
   "execution_count": 224,
   "metadata": {},
   "outputs": [
    {
     "name": "stdout",
     "output_type": "stream",
     "text": [
      "Invalid lat lon 1680\n"
     ]
    }
   ],
   "source": [
    "#Chcecking for invalid LAT LONG values\n",
    "\n",
    "invalid_lat = df['LAT'].isnull() | (df['LAT'] == 0) | (df['LAT'] < -90) | (df['LAT'] > 90)\n",
    "invalid_lon = df['LON'].isnull() | (df['LON'] == 0) | (df['LON'] < -180) | (df['LON'] > 180)\n",
    "\n",
    "count_invalid = (invalid_lat | invalid_lon).sum()\n",
    "print(\"Invalid lat lon\", count_invalid)\n",
    "\n"
   ]
  },
  {
   "cell_type": "code",
   "execution_count": 225,
   "metadata": {},
   "outputs": [],
   "source": [
    "df.drop(df[invalid_lat | invalid_lon].index, inplace=True)"
   ]
  },
  {
   "cell_type": "code",
   "execution_count": 226,
   "metadata": {},
   "outputs": [
    {
     "name": "stderr",
     "output_type": "stream",
     "text": [
      "C:\\Users\\dpamu\\AppData\\Local\\Temp\\ipykernel_22952\\1535027545.py:2: UserWarning: Could not infer format, so each element will be parsed individually, falling back to `dateutil`. To ensure parsing is consistent and as-expected, please specify a format.\n",
      "  df['DATE OCC'] = pd.to_datetime(df['DATE OCC'], errors='coerce')\n"
     ]
    },
    {
     "name": "stdout",
     "output_type": "stream",
     "text": [
      "Minimum DATE OCC: 2020-01-01 00:00:00\n",
      "Maximum DATE OCC: 2025-04-01 00:00:00\n"
     ]
    }
   ],
   "source": [
    "# Make sure 'DATE OCC' is in datetime format first\n",
    "df['DATE OCC'] = pd.to_datetime(df['DATE OCC'], errors='coerce')\n",
    "\n",
    "# Get min and max dates\n",
    "min_date = df['DATE OCC'].min()\n",
    "max_date = df['DATE OCC'].max()\n",
    "\n",
    "print(f\"Minimum DATE OCC: {min_date}\")\n",
    "print(f\"Maximum DATE OCC: {max_date}\")\n"
   ]
  },
  {
   "cell_type": "code",
   "execution_count": 227,
   "metadata": {},
   "outputs": [],
   "source": [
    "# Ensure DATE OCC is datetime -\n",
    "df['DATE OCC'] = pd.to_datetime(df['DATE OCC'], errors='coerce')\n",
    "\n",
    "# Filter for years 2023, 2024, and 2025\n",
    "df = df[df['DATE OCC'].dt.year.isin([2023, 2024, 2025])]\n"
   ]
  },
  {
   "cell_type": "code",
   "execution_count": 228,
   "metadata": {},
   "outputs": [
    {
     "name": "stdout",
     "output_type": "stream",
     "text": [
      "240556\n"
     ]
    }
   ],
   "source": [
    "print(len(df))  # Total number of rows\n"
   ]
  },
  {
   "cell_type": "markdown",
   "metadata": {},
   "source": [
    "### Dropping redundant attriutes\n",
    "\n"
   ]
  },
  {
   "cell_type": "code",
   "execution_count": 229,
   "metadata": {},
   "outputs": [],
   "source": [
    "#Dropping due high cardinality for one hot encoding. will be using LAT/LONG, zipcode instead\n",
    "df.drop(['LOCATION'], axis=1, inplace=True)"
   ]
  },
  {
   "cell_type": "code",
   "execution_count": 230,
   "metadata": {},
   "outputs": [],
   "source": [
    "#dropping redundant code fields as we have descripton fields and unnecessary fields\n",
    "df.drop(['Crm Cd','Mocodes','AREA','Crm Cd 2', 'Crm Cd 3', 'Crm Cd 4','Rpt Dist No','Cross Street','Weapon Used Cd', 'Status','Premis Cd','Weapon Desc',\n",
    "        'Vict Descent','Status Desc','Premis Desc'], axis=1, inplace=True)"
   ]
  },
  {
   "cell_type": "code",
   "execution_count": 231,
   "metadata": {},
   "outputs": [],
   "source": [
    "# Checking TIME OCC is a 4-digit string \n",
    "df['TIME OCC'] = df['TIME OCC'].astype(str).str.zfill(4)\n",
    "# Extract hour\n",
    "df['hour'] = df['TIME OCC'].str[:2].astype(int)"
   ]
  },
  {
   "cell_type": "code",
   "execution_count": 232,
   "metadata": {},
   "outputs": [],
   "source": [
    "#Dropping due to irrelevance and redundance\n",
    "df.drop(['DATE OCC','TIME OCC'], axis=1, inplace=True)"
   ]
  },
  {
   "cell_type": "code",
   "execution_count": 233,
   "metadata": {},
   "outputs": [],
   "source": [
    "# Defining age bins and corresponding labels\n",
    "age_bins = [0, 12, 18, 35, 60, 120]  # 0-12=Child, 13-18=Teen, 19-35=Young Adult, etc.\n",
    "age_labels = ['Child', 'Teen', 'Young Adult', 'Adult', 'Senior']\n",
    "\n",
    "# Creating age group column\n",
    "df['Victim_Age_Group'] = pd.cut(df['Vict Age'], bins=age_bins, labels=age_labels, right=False)\n"
   ]
  },
  {
   "cell_type": "code",
   "execution_count": 234,
   "metadata": {},
   "outputs": [],
   "source": [
    "df.drop(['DR_NO', 'Date Rptd'], axis=1, inplace=True)\n"
   ]
  },
  {
   "cell_type": "code",
   "execution_count": 235,
   "metadata": {},
   "outputs": [
    {
     "data": {
      "text/html": [
       "<div>\n",
       "<style scoped>\n",
       "    .dataframe tbody tr th:only-of-type {\n",
       "        vertical-align: middle;\n",
       "    }\n",
       "\n",
       "    .dataframe tbody tr th {\n",
       "        vertical-align: top;\n",
       "    }\n",
       "\n",
       "    .dataframe thead th {\n",
       "        text-align: right;\n",
       "    }\n",
       "</style>\n",
       "<table border=\"1\" class=\"dataframe\">\n",
       "  <thead>\n",
       "    <tr style=\"text-align: right;\">\n",
       "      <th></th>\n",
       "      <th>AREA NAME</th>\n",
       "      <th>Part 1-2</th>\n",
       "      <th>Crm Cd Desc</th>\n",
       "      <th>Vict Age</th>\n",
       "      <th>Vict Sex</th>\n",
       "      <th>Crm Cd 1</th>\n",
       "      <th>LAT</th>\n",
       "      <th>LON</th>\n",
       "      <th>hour</th>\n",
       "      <th>Victim_Age_Group</th>\n",
       "    </tr>\n",
       "  </thead>\n",
       "  <tbody>\n",
       "    <tr>\n",
       "      <th>644982</th>\n",
       "      <td>Central</td>\n",
       "      <td>1</td>\n",
       "      <td>THEFT PLAIN - PETTY ($950 &amp; UNDER)</td>\n",
       "      <td>48</td>\n",
       "      <td>M</td>\n",
       "      <td>440.00</td>\n",
       "      <td>34.04</td>\n",
       "      <td>-118.27</td>\n",
       "      <td>16</td>\n",
       "      <td>Adult</td>\n",
       "    </tr>\n",
       "    <tr>\n",
       "      <th>644983</th>\n",
       "      <td>N Hollywood</td>\n",
       "      <td>1</td>\n",
       "      <td>ASSAULT WITH DEADLY WEAPON, AGGRAVATED ASSAULT</td>\n",
       "      <td>36</td>\n",
       "      <td>F</td>\n",
       "      <td>230.00</td>\n",
       "      <td>34.17</td>\n",
       "      <td>-118.36</td>\n",
       "      <td>10</td>\n",
       "      <td>Adult</td>\n",
       "    </tr>\n",
       "    <tr>\n",
       "      <th>644984</th>\n",
       "      <td>Central</td>\n",
       "      <td>1</td>\n",
       "      <td>THEFT FROM MOTOR VEHICLE - GRAND ($950.01 AND ...</td>\n",
       "      <td>25</td>\n",
       "      <td>F</td>\n",
       "      <td>331.00</td>\n",
       "      <td>34.04</td>\n",
       "      <td>-118.27</td>\n",
       "      <td>8</td>\n",
       "      <td>Young Adult</td>\n",
       "    </tr>\n",
       "    <tr>\n",
       "      <th>644985</th>\n",
       "      <td>Hollywood</td>\n",
       "      <td>2</td>\n",
       "      <td>INTIMATE PARTNER - SIMPLE ASSAULT</td>\n",
       "      <td>65</td>\n",
       "      <td>F</td>\n",
       "      <td>626.00</td>\n",
       "      <td>34.10</td>\n",
       "      <td>-118.31</td>\n",
       "      <td>1</td>\n",
       "      <td>Senior</td>\n",
       "    </tr>\n",
       "    <tr>\n",
       "      <th>644986</th>\n",
       "      <td>Topanga</td>\n",
       "      <td>1</td>\n",
       "      <td>ROBBERY</td>\n",
       "      <td>31</td>\n",
       "      <td>F</td>\n",
       "      <td>210.00</td>\n",
       "      <td>34.19</td>\n",
       "      <td>-118.56</td>\n",
       "      <td>7</td>\n",
       "      <td>Young Adult</td>\n",
       "    </tr>\n",
       "  </tbody>\n",
       "</table>\n",
       "</div>"
      ],
      "text/plain": [
       "          AREA NAME  Part 1-2  \\\n",
       "644982      Central         1   \n",
       "644983  N Hollywood         1   \n",
       "644984      Central         1   \n",
       "644985    Hollywood         2   \n",
       "644986      Topanga         1   \n",
       "\n",
       "                                              Crm Cd Desc  Vict Age Vict Sex  \\\n",
       "644982                 THEFT PLAIN - PETTY ($950 & UNDER)        48        M   \n",
       "644983     ASSAULT WITH DEADLY WEAPON, AGGRAVATED ASSAULT        36        F   \n",
       "644984  THEFT FROM MOTOR VEHICLE - GRAND ($950.01 AND ...        25        F   \n",
       "644985                  INTIMATE PARTNER - SIMPLE ASSAULT        65        F   \n",
       "644986                                            ROBBERY        31        F   \n",
       "\n",
       "        Crm Cd 1   LAT     LON  hour Victim_Age_Group  \n",
       "644982    440.00 34.04 -118.27    16            Adult  \n",
       "644983    230.00 34.17 -118.36    10            Adult  \n",
       "644984    331.00 34.04 -118.27     8      Young Adult  \n",
       "644985    626.00 34.10 -118.31     1           Senior  \n",
       "644986    210.00 34.19 -118.56     7      Young Adult  "
      ]
     },
     "execution_count": 235,
     "metadata": {},
     "output_type": "execute_result"
    }
   ],
   "source": [
    "df.head()"
   ]
  },
  {
   "cell_type": "code",
   "execution_count": 236,
   "metadata": {},
   "outputs": [],
   "source": [
    "df.drop(['AREA NAME', 'Crm Cd Desc','Vict Age', 'Crm Cd 1'], axis=1, inplace=True)"
   ]
  },
  {
   "cell_type": "code",
   "execution_count": 237,
   "metadata": {},
   "outputs": [
    {
     "name": "stdout",
     "output_type": "stream",
     "text": [
      "['Part 1-2', 'Vict Sex', 'LAT', 'LON', 'hour', 'Victim_Age_Group']\n"
     ]
    }
   ],
   "source": [
    "fields = df.columns.tolist()\n",
    "print(fields)\n"
   ]
  },
  {
   "cell_type": "code",
   "execution_count": 238,
   "metadata": {},
   "outputs": [
    {
     "data": {
      "text/html": [
       "<div>\n",
       "<style scoped>\n",
       "    .dataframe tbody tr th:only-of-type {\n",
       "        vertical-align: middle;\n",
       "    }\n",
       "\n",
       "    .dataframe tbody tr th {\n",
       "        vertical-align: top;\n",
       "    }\n",
       "\n",
       "    .dataframe thead th {\n",
       "        text-align: right;\n",
       "    }\n",
       "</style>\n",
       "<table border=\"1\" class=\"dataframe\">\n",
       "  <thead>\n",
       "    <tr style=\"text-align: right;\">\n",
       "      <th></th>\n",
       "      <th>Part 1-2</th>\n",
       "      <th>Vict Sex</th>\n",
       "      <th>LAT</th>\n",
       "      <th>LON</th>\n",
       "      <th>hour</th>\n",
       "      <th>Victim_Age_Group</th>\n",
       "    </tr>\n",
       "  </thead>\n",
       "  <tbody>\n",
       "    <tr>\n",
       "      <th>644982</th>\n",
       "      <td>1</td>\n",
       "      <td>M</td>\n",
       "      <td>34.04</td>\n",
       "      <td>-118.27</td>\n",
       "      <td>16</td>\n",
       "      <td>Adult</td>\n",
       "    </tr>\n",
       "    <tr>\n",
       "      <th>644983</th>\n",
       "      <td>1</td>\n",
       "      <td>F</td>\n",
       "      <td>34.17</td>\n",
       "      <td>-118.36</td>\n",
       "      <td>10</td>\n",
       "      <td>Adult</td>\n",
       "    </tr>\n",
       "    <tr>\n",
       "      <th>644984</th>\n",
       "      <td>1</td>\n",
       "      <td>F</td>\n",
       "      <td>34.04</td>\n",
       "      <td>-118.27</td>\n",
       "      <td>8</td>\n",
       "      <td>Young Adult</td>\n",
       "    </tr>\n",
       "    <tr>\n",
       "      <th>644985</th>\n",
       "      <td>2</td>\n",
       "      <td>F</td>\n",
       "      <td>34.10</td>\n",
       "      <td>-118.31</td>\n",
       "      <td>1</td>\n",
       "      <td>Senior</td>\n",
       "    </tr>\n",
       "    <tr>\n",
       "      <th>644986</th>\n",
       "      <td>1</td>\n",
       "      <td>F</td>\n",
       "      <td>34.19</td>\n",
       "      <td>-118.56</td>\n",
       "      <td>7</td>\n",
       "      <td>Young Adult</td>\n",
       "    </tr>\n",
       "  </tbody>\n",
       "</table>\n",
       "</div>"
      ],
      "text/plain": [
       "        Part 1-2 Vict Sex   LAT     LON  hour Victim_Age_Group\n",
       "644982         1        M 34.04 -118.27    16            Adult\n",
       "644983         1        F 34.17 -118.36    10            Adult\n",
       "644984         1        F 34.04 -118.27     8      Young Adult\n",
       "644985         2        F 34.10 -118.31     1           Senior\n",
       "644986         1        F 34.19 -118.56     7      Young Adult"
      ]
     },
     "execution_count": 238,
     "metadata": {},
     "output_type": "execute_result"
    }
   ],
   "source": [
    "df.head()"
   ]
  },
  {
   "cell_type": "markdown",
   "metadata": {},
   "source": [
    "### 5. One Hot Encoding\n",
    "#### One hot encoding will be applied to Victim sex (giving 2 columns) and Victim Age group (giving 5 groups)"
   ]
  },
  {
   "cell_type": "code",
   "execution_count": 239,
   "metadata": {},
   "outputs": [],
   "source": [
    "import pandas as pd\n",
    "\n",
    "# 1. Keep only 'M' and 'F' values\n",
    "df = df[df['Vict Sex'].isin(['M', 'F'])]\n",
    "\n",
    "# 2. One-hot encode Vict Sex\n",
    "df = pd.get_dummies(df, columns=['Vict Sex'], prefix='Vict_Sex', drop_first=False)\n"
   ]
  },
  {
   "cell_type": "code",
   "execution_count": 240,
   "metadata": {},
   "outputs": [],
   "source": [
    "import pandas as pd\n",
    "\n",
    "# 1. Keep only 'M' and 'F' values\n",
    "df = df[df['Victim_Age_Group'].isin(['Child', 'Teen', 'Young Adult', 'Adult', 'Senior'])]\n",
    "\n",
    "# 2. One-hot encode Vict Sex\n",
    "df = pd.get_dummies(df, columns=['Victim_Age_Group'], prefix='Vict_Age', drop_first=False)\n"
   ]
  },
  {
   "cell_type": "code",
   "execution_count": 241,
   "metadata": {},
   "outputs": [
    {
     "data": {
      "text/html": [
       "<div>\n",
       "<style scoped>\n",
       "    .dataframe tbody tr th:only-of-type {\n",
       "        vertical-align: middle;\n",
       "    }\n",
       "\n",
       "    .dataframe tbody tr th {\n",
       "        vertical-align: top;\n",
       "    }\n",
       "\n",
       "    .dataframe thead th {\n",
       "        text-align: right;\n",
       "    }\n",
       "</style>\n",
       "<table border=\"1\" class=\"dataframe\">\n",
       "  <thead>\n",
       "    <tr style=\"text-align: right;\">\n",
       "      <th></th>\n",
       "      <th>Part 1-2</th>\n",
       "      <th>LAT</th>\n",
       "      <th>LON</th>\n",
       "      <th>hour</th>\n",
       "      <th>Vict_Sex_F</th>\n",
       "      <th>Vict_Sex_M</th>\n",
       "      <th>Vict_Age_Child</th>\n",
       "      <th>Vict_Age_Teen</th>\n",
       "      <th>Vict_Age_Young Adult</th>\n",
       "      <th>Vict_Age_Adult</th>\n",
       "      <th>Vict_Age_Senior</th>\n",
       "    </tr>\n",
       "  </thead>\n",
       "  <tbody>\n",
       "    <tr>\n",
       "      <th>644982</th>\n",
       "      <td>1</td>\n",
       "      <td>34.04</td>\n",
       "      <td>-118.27</td>\n",
       "      <td>16</td>\n",
       "      <td>False</td>\n",
       "      <td>True</td>\n",
       "      <td>False</td>\n",
       "      <td>False</td>\n",
       "      <td>False</td>\n",
       "      <td>True</td>\n",
       "      <td>False</td>\n",
       "    </tr>\n",
       "    <tr>\n",
       "      <th>644983</th>\n",
       "      <td>1</td>\n",
       "      <td>34.17</td>\n",
       "      <td>-118.36</td>\n",
       "      <td>10</td>\n",
       "      <td>True</td>\n",
       "      <td>False</td>\n",
       "      <td>False</td>\n",
       "      <td>False</td>\n",
       "      <td>False</td>\n",
       "      <td>True</td>\n",
       "      <td>False</td>\n",
       "    </tr>\n",
       "    <tr>\n",
       "      <th>644984</th>\n",
       "      <td>1</td>\n",
       "      <td>34.04</td>\n",
       "      <td>-118.27</td>\n",
       "      <td>8</td>\n",
       "      <td>True</td>\n",
       "      <td>False</td>\n",
       "      <td>False</td>\n",
       "      <td>False</td>\n",
       "      <td>True</td>\n",
       "      <td>False</td>\n",
       "      <td>False</td>\n",
       "    </tr>\n",
       "    <tr>\n",
       "      <th>644985</th>\n",
       "      <td>2</td>\n",
       "      <td>34.10</td>\n",
       "      <td>-118.31</td>\n",
       "      <td>1</td>\n",
       "      <td>True</td>\n",
       "      <td>False</td>\n",
       "      <td>False</td>\n",
       "      <td>False</td>\n",
       "      <td>False</td>\n",
       "      <td>False</td>\n",
       "      <td>True</td>\n",
       "    </tr>\n",
       "    <tr>\n",
       "      <th>644986</th>\n",
       "      <td>1</td>\n",
       "      <td>34.19</td>\n",
       "      <td>-118.56</td>\n",
       "      <td>7</td>\n",
       "      <td>True</td>\n",
       "      <td>False</td>\n",
       "      <td>False</td>\n",
       "      <td>False</td>\n",
       "      <td>True</td>\n",
       "      <td>False</td>\n",
       "      <td>False</td>\n",
       "    </tr>\n",
       "  </tbody>\n",
       "</table>\n",
       "</div>"
      ],
      "text/plain": [
       "        Part 1-2   LAT     LON  hour  Vict_Sex_F  Vict_Sex_M  Vict_Age_Child  \\\n",
       "644982         1 34.04 -118.27    16       False        True           False   \n",
       "644983         1 34.17 -118.36    10        True       False           False   \n",
       "644984         1 34.04 -118.27     8        True       False           False   \n",
       "644985         2 34.10 -118.31     1        True       False           False   \n",
       "644986         1 34.19 -118.56     7        True       False           False   \n",
       "\n",
       "        Vict_Age_Teen  Vict_Age_Young Adult  Vict_Age_Adult  Vict_Age_Senior  \n",
       "644982          False                 False            True            False  \n",
       "644983          False                 False            True            False  \n",
       "644984          False                  True           False            False  \n",
       "644985          False                 False           False             True  \n",
       "644986          False                  True           False            False  "
      ]
     },
     "execution_count": 241,
     "metadata": {},
     "output_type": "execute_result"
    }
   ],
   "source": [
    "df.head()"
   ]
  },
  {
   "cell_type": "code",
   "execution_count": 242,
   "metadata": {},
   "outputs": [
    {
     "name": "stdout",
     "output_type": "stream",
     "text": [
      "['Part 1-2', 'LAT', 'LON', 'hour', 'Vict_Sex_F', 'Vict_Sex_M', 'Vict_Age_Child', 'Vict_Age_Teen', 'Vict_Age_Young Adult', 'Vict_Age_Adult', 'Vict_Age_Senior']\n"
     ]
    }
   ],
   "source": [
    "fields = df.columns.tolist()\n",
    "print(fields)\n"
   ]
  },
  {
   "cell_type": "markdown",
   "metadata": {},
   "source": [
    "### 6. Scaling\n",
    "#### Scaling is need because some of the features have higher differences than the others. Without scaling these larger differences will dominate the distance metrics leading to biased clusters. "
   ]
  },
  {
   "cell_type": "code",
   "execution_count": 243,
   "metadata": {},
   "outputs": [
    {
     "data": {
      "text/plain": [
       "Part 1-2                0\n",
       "LAT                     0\n",
       "LON                     0\n",
       "hour                    0\n",
       "Vict_Sex_F              0\n",
       "Vict_Sex_M              0\n",
       "Vict_Age_Child          0\n",
       "Vict_Age_Teen           0\n",
       "Vict_Age_Young Adult    0\n",
       "Vict_Age_Adult          0\n",
       "Vict_Age_Senior         0\n",
       "dtype: int64"
      ]
     },
     "execution_count": 243,
     "metadata": {},
     "output_type": "execute_result"
    }
   ],
   "source": [
    "df.isnull().sum()\n"
   ]
  },
  {
   "cell_type": "code",
   "execution_count": 244,
   "metadata": {},
   "outputs": [],
   "source": [
    "from sklearn.preprocessing import StandardScaler\n",
    "\n",
    "scaler = StandardScaler()\n",
    "scaled_data = scaler.fit_transform(df[['Part 1-2', 'LAT', 'LON',  'Vict_Sex_F', 'Vict_Sex_M', 'Vict_Age_Child', 'Vict_Age_Teen', 'Vict_Age_Young Adult', 'Vict_Age_Adult', 'Vict_Age_Senior']])\n"
   ]
  },
  {
   "cell_type": "code",
   "execution_count": 245,
   "metadata": {},
   "outputs": [
    {
     "data": {
      "text/plain": [
       "numpy.ndarray"
      ]
     },
     "execution_count": 245,
     "metadata": {},
     "output_type": "execute_result"
    }
   ],
   "source": [
    "type(scaled_data)\n"
   ]
  },
  {
   "cell_type": "markdown",
   "metadata": {},
   "source": [
    "## 7. Clustering"
   ]
  },
  {
   "cell_type": "markdown",
   "metadata": {},
   "source": [
    "#### As we have 250k records we chose the following models for their ability to handle large datasets. We chose this option as opposed to sampling to get better accuracy.\n",
    "#### MiniBatchKMeans : Faster, memory-efficient version of KMeans, using small random batches instead of the whole dataset for updates.\n",
    "#### Gaussian Mixture : Flexible model that is probabilistic, allowing soft clustering (a point can belong to multiple clusters with different probabilities). This is useful as we belive there may be overlap in clusters.\n",
    "#### Birch model (Balanced Iterative Reducing and Clustering using Hierarchies): Efficient at handling large datasets by incrementally builiding clustering tree and compressing data in memory.\n",
    "\n",
    "#### Other algorithms took lot of compute resoures and long time process. The above mentioned models worked quickly and giving a moderate Silhoute scores.\n",
    "\n"
   ]
  },
  {
   "cell_type": "code",
   "execution_count": 246,
   "metadata": {},
   "outputs": [
    {
     "name": "stdout",
     "output_type": "stream",
     "text": [
      "Clustering Comparison Results:\n",
      "         Algorithm  Silhouette Score\n",
      "0  MiniBatchKMeans              0.27\n",
      "1  GaussianMixture              0.30\n",
      "2            Birch              0.30\n"
     ]
    }
   ],
   "source": [
    "from sklearn.preprocessing import StandardScaler\n",
    "from sklearn.cluster import MiniBatchKMeans, Birch\n",
    "from sklearn.mixture import GaussianMixture\n",
    "from sklearn.metrics import silhouette_score\n",
    "import pandas as pd\n",
    "import numpy as np\n",
    "\n",
    "\n",
    "# 1. MiniBatchKMeans\n",
    "mini_kmeans = MiniBatchKMeans(n_clusters=5, batch_size=10000, random_state=42)\n",
    "mini_labels = mini_kmeans.fit_predict(scaled_data)\n",
    "mini_silhouette = silhouette_score(scaled_data, mini_labels)\n",
    "\n",
    "# 2. Gaussian Mixture\n",
    "gmm = GaussianMixture(n_components=5, random_state=42)\n",
    "gmm_labels = gmm.fit_predict(scaled_data)\n",
    "gmm_silhouette = silhouette_score(scaled_data, gmm_labels)\n",
    "\n",
    "# 3. Birch\n",
    "birch = Birch(n_clusters=5) an\n",
    "birch_labels = birch.fit_predict(scaled_data)\n",
    "birch_silhouette = silhouette_score(scaled_data, birch_labels)\n",
    "\n",
    "# Prepare result summary\n",
    "result_df = pd.DataFrame({\n",
    "    'Algorithm': ['MiniBatchKMeans', 'GaussianMixture', 'Birch'],\n",
    "    'Silhouette Score': [mini_silhouette, gmm_silhouette, birch_silhouette]\n",
    "})\n",
    "\n",
    "print(\"Clustering Comparison Results:\")\n",
    "print(result_df)\n",
    "\n"
   ]
  },
  {
   "cell_type": "code",
   "execution_count": 247,
   "metadata": {},
   "outputs": [],
   "source": [
    "from sklearn.cluster import MiniBatchKMeans\n",
    "\n",
    "kmeans = MiniBatchKMeans(n_clusters=5, batch_size=10000, random_state=42)\n",
    "df['cluster'] = kmeans.fit_predict(scaled_data)\n"
   ]
  },
  {
   "cell_type": "code",
   "execution_count": 248,
   "metadata": {},
   "outputs": [
    {
     "name": "stdout",
     "output_type": "stream",
     "text": [
      "Silhouette Score: 0.2652\n"
     ]
    }
   ],
   "source": [
    "from sklearn.metrics import silhouette_score\n",
    "\n",
    "score = silhouette_score(scaled_data, df['cluster'])\n",
    "print(f\"Silhouette Score: {score:.4f}\")\n"
   ]
  },
  {
   "cell_type": "code",
   "execution_count": 251,
   "metadata": {},
   "outputs": [],
   "source": [
    "df['mini_labels'] = mini_labels\n",
    "df['gmm_labels'] = gmm_labels\n",
    "df['birch_labels'] = birch_labels"
   ]
  },
  {
   "cell_type": "code",
   "execution_count": 252,
   "metadata": {},
   "outputs": [
    {
     "name": "stdout",
     "output_type": "stream",
     "text": [
      "MiniBatchKMeans label counts:\n",
      "mini_labels\n",
      "3    83909\n",
      "1    61848\n",
      "4    51053\n",
      "0    37236\n",
      "2     6508\n",
      "Name: count, dtype: int64\n",
      "Gaussian label counts:\n",
      "gmm_labels\n",
      "2    58876\n",
      "3    55575\n",
      "4    51854\n",
      "0    43555\n",
      "1    30694\n",
      "Name: count, dtype: int64\n",
      "Birch label counts:\n",
      "birch_labels\n",
      "1    100304\n",
      "4     94145\n",
      "0     37711\n",
      "2      6508\n",
      "3      1886\n",
      "Name: count, dtype: int64\n"
     ]
    }
   ],
   "source": [
    "print(\"MiniBatchKMeans label counts:\")\n",
    "print(df['mini_labels'].value_counts())\n",
    "\n",
    "print(\"Gaussian label counts:\")\n",
    "print(df['gmm_labels'].value_counts())\n",
    "\n",
    "print(\"Birch label counts:\")\n",
    "print(df['birch_labels'].value_counts())\n"
   ]
  },
  {
   "cell_type": "markdown",
   "metadata": {},
   "source": [
    "## 8. Visualization"
   ]
  },
  {
   "cell_type": "markdown",
   "metadata": {},
   "source": [
    "#### Using Guassian Mixture results due to high Silhouette scores"
   ]
  },
  {
   "cell_type": "code",
   "execution_count": 255,
   "metadata": {},
   "outputs": [
    {
     "data": {
      "image/png": "[encoded data removed]",
      "text/plain": [
       "<Figure size 1000x600 with 2 Axes>"
      ]
     },
     "metadata": {},
     "output_type": "display_data"
    }
   ],
   "source": [
    "from sklearn.decomposition import PCA\n",
    "import matplotlib.pyplot as plt\n",
    "\n",
    "# Reduce to 2D for visualization\n",
    "pca = PCA(n_components=2)\n",
    "pca_result = pca.fit_transform(scaled_data)\n",
    "\n",
    "# Scatter plot with cluster labels\n",
    "plt.figure(figsize=(10, 6))\n",
    "plt.scatter(pca_result[:, 0], pca_result[:, 1], c=df['gmm_labels'], cmap='tab10', s=10)\n",
    "plt.title(\"PCA Projection of Clusters\")\n",
    "plt.xlabel(\"PC1\")\n",
    "plt.ylabel(\"PC2\")\n",
    "plt.colorbar(label='Cluster')\n",
    "plt.grid(True)\n",
    "plt.show()\n"
   ]
  },
  {
   "cell_type": "code",
   "execution_count": 256,
   "metadata": {},
   "outputs": [
    {
     "data": {
      "text/html": [
       "<div>\n",
       "<style scoped>\n",
       "    .dataframe tbody tr th:only-of-type {\n",
       "        vertical-align: middle;\n",
       "    }\n",
       "\n",
       "    .dataframe tbody tr th {\n",
       "        vertical-align: top;\n",
       "    }\n",
       "\n",
       "    .dataframe thead th {\n",
       "        text-align: right;\n",
       "    }\n",
       "</style>\n",
       "<table border=\"1\" class=\"dataframe\">\n",
       "  <thead>\n",
       "    <tr style=\"text-align: right;\">\n",
       "      <th></th>\n",
       "      <th>Part 1-2</th>\n",
       "      <th>Vict_Age_Child</th>\n",
       "      <th>Vict_Age_Teen</th>\n",
       "      <th>Vict_Age_Young Adult</th>\n",
       "      <th>Vict_Age_Adult</th>\n",
       "      <th>Vict_Age_Senior</th>\n",
       "      <th>Vict_Sex_M</th>\n",
       "      <th>Vict_Sex_F</th>\n",
       "      <th>hour</th>\n",
       "      <th>LAT</th>\n",
       "      <th>LON</th>\n",
       "    </tr>\n",
       "    <tr>\n",
       "      <th>gmm_labels</th>\n",
       "      <th></th>\n",
       "      <th></th>\n",
       "      <th></th>\n",
       "      <th></th>\n",
       "      <th></th>\n",
       "      <th></th>\n",
       "      <th></th>\n",
       "      <th></th>\n",
       "      <th></th>\n",
       "      <th></th>\n",
       "      <th></th>\n",
       "    </tr>\n",
       "  </thead>\n",
       "  <tbody>\n",
       "    <tr>\n",
       "      <th>0</th>\n",
       "      <td>1.99</td>\n",
       "      <td>0.04</td>\n",
       "      <td>0.00</td>\n",
       "      <td>0.96</td>\n",
       "      <td>0.00</td>\n",
       "      <td>0.00</td>\n",
       "      <td>0.39</td>\n",
       "      <td>0.61</td>\n",
       "      <td>12.73</td>\n",
       "      <td>34.07</td>\n",
       "      <td>-118.35</td>\n",
       "    </tr>\n",
       "    <tr>\n",
       "      <th>1</th>\n",
       "      <td>1.47</td>\n",
       "      <td>0.00</td>\n",
       "      <td>0.00</td>\n",
       "      <td>0.00</td>\n",
       "      <td>0.00</td>\n",
       "      <td>1.00</td>\n",
       "      <td>0.54</td>\n",
       "      <td>0.46</td>\n",
       "      <td>13.02</td>\n",
       "      <td>34.08</td>\n",
       "      <td>-118.38</td>\n",
       "    </tr>\n",
       "    <tr>\n",
       "      <th>2</th>\n",
       "      <td>1.39</td>\n",
       "      <td>0.00</td>\n",
       "      <td>0.05</td>\n",
       "      <td>0.00</td>\n",
       "      <td>0.95</td>\n",
       "      <td>0.00</td>\n",
       "      <td>1.00</td>\n",
       "      <td>0.00</td>\n",
       "      <td>13.24</td>\n",
       "      <td>34.09</td>\n",
       "      <td>-118.37</td>\n",
       "    </tr>\n",
       "    <tr>\n",
       "      <th>3</th>\n",
       "      <td>1.00</td>\n",
       "      <td>0.00</td>\n",
       "      <td>0.00</td>\n",
       "      <td>1.00</td>\n",
       "      <td>0.00</td>\n",
       "      <td>0.00</td>\n",
       "      <td>0.54</td>\n",
       "      <td>0.46</td>\n",
       "      <td>13.57</td>\n",
       "      <td>34.07</td>\n",
       "      <td>-118.35</td>\n",
       "    </tr>\n",
       "    <tr>\n",
       "      <th>4</th>\n",
       "      <td>1.55</td>\n",
       "      <td>0.00</td>\n",
       "      <td>0.07</td>\n",
       "      <td>0.00</td>\n",
       "      <td>0.93</td>\n",
       "      <td>0.00</td>\n",
       "      <td>0.00</td>\n",
       "      <td>1.00</td>\n",
       "      <td>13.18</td>\n",
       "      <td>34.07</td>\n",
       "      <td>-118.36</td>\n",
       "    </tr>\n",
       "  </tbody>\n",
       "</table>\n",
       "</div>"
      ],
      "text/plain": [
       "            Part 1-2  Vict_Age_Child  Vict_Age_Teen  Vict_Age_Young Adult  \\\n",
       "gmm_labels                                                                  \n",
       "0               1.99            0.04           0.00                  0.96   \n",
       "1               1.47            0.00           0.00                  0.00   \n",
       "2               1.39            0.00           0.05                  0.00   \n",
       "3               1.00            0.00           0.00                  1.00   \n",
       "4               1.55            0.00           0.07                  0.00   \n",
       "\n",
       "            Vict_Age_Adult  Vict_Age_Senior  Vict_Sex_M  Vict_Sex_F  hour  \\\n",
       "gmm_labels                                                                  \n",
       "0                     0.00             0.00        0.39        0.61 12.73   \n",
       "1                     0.00             1.00        0.54        0.46 13.02   \n",
       "2                     0.95             0.00        1.00        0.00 13.24   \n",
       "3                     0.00             0.00        0.54        0.46 13.57   \n",
       "4                     0.93             0.00        0.00        1.00 13.18   \n",
       "\n",
       "             LAT     LON  \n",
       "gmm_labels                \n",
       "0          34.07 -118.35  \n",
       "1          34.08 -118.38  \n",
       "2          34.09 -118.37  \n",
       "3          34.07 -118.35  \n",
       "4          34.07 -118.36  "
      ]
     },
     "execution_count": 256,
     "metadata": {},
     "output_type": "execute_result"
    }
   ],
   "source": [
    "\n",
    "# Now group by cluster and describe the features\n",
    "df.groupby('gmm_labels')[['Part 1-2','Vict_Age_Child', 'Vict_Age_Teen', 'Vict_Age_Young Adult','Vict_Age_Adult', 'Vict_Age_Senior',\n",
    "                       'Vict_Sex_M', 'Vict_Sex_F', 'hour', 'LAT', 'LON']].mean()\n"
   ]
  },
  {
   "cell_type": "code",
   "execution_count": 257,
   "metadata": {},
   "outputs": [
    {
     "data": {
      "text/plain": [
       "gmm_labels  Part 1-2\n",
       "0           2          0.99\n",
       "            1          0.01\n",
       "1           1          0.53\n",
       "            2          0.47\n",
       "2           1          0.61\n",
       "            2          0.39\n",
       "3           1          1.00\n",
       "4           2          0.55\n",
       "            1          0.45\n",
       "Name: proportion, dtype: float64"
      ]
     },
     "execution_count": 257,
     "metadata": {},
     "output_type": "execute_result"
    }
   ],
   "source": [
    "df.groupby('gmm_labels')['Part 1-2'].value_counts(normalize=True)\n"
   ]
  },
  {
   "attachments": {},
   "cell_type": "markdown",
   "metadata": {},
   "source": [
    "### 9. Business Value - Gaussian Mixture Model\n",
    "#### From the above breakdown, we can see that for \n",
    "#### Cluster 0 - Majority of the victims were female young adults  and that the location of crime occurence is at Lat: 34.07 Long: -118.35 occuring around 1 pm with severity of crime being 2 (non serious crimes).This indicates some sort of petty theft or property crimes happening during lunch hours affecting young adults. So launching programs to make female commuters aware of the area will help combat the crime.\n",
    "#### Cluster 1 - All of the victims are elderly with a mix of both male and female victims with server of crime being a mix of serious and non serious. This shows vulnerability for seniors so having Senior safety awareness would help reduce the crime.\n",
    "#### Cluster 2- All of the victims are male  with higher percentage of adults victims with small percentage of teenagers. Majority of the crimes in this cluster are of non serious crimes so this can be treated as lower priority incidents. This would save the police enforcement to focus on serious crime clusters.\n",
    "#### Cluster 3 : This cluster captures serious crimes with young adults with equal mix of male and females happening around Lat: 34.07 Lon: -118.35 happening around 1 pm. These could be street violence or assaults. This would be helpful for police to survelience the area and priotize their resources\n",
    "#### Cluster 4: All victims are Female  with majority yound adults and small portion of teenagers as well with crime occruning around 1 pm . Since there is equal mix of serious and non serious crimes this could imply domestic violence or gender based crimes. This would be hellpful in planning and prioritising outreach programs for women to bring awareness.\n",
    "\n",
    "#### Based on above insights from Clusters we have following recommendations:\n",
    "#### 1. Police departments should use cluster insights for proactive resource allocation.\n",
    "#### 2. Design tailored outreach and safety campaigns based on victim demographics.\n",
    "#### 3. Expand the model by incorporating real-time feeds, geographic trends, and repeat offense patterns.\n",
    "#### 4. Engage with local community organizations to raise awareness in areas identified as high-risk.\n"
   ]
  },
  {
   "cell_type": "markdown",
   "metadata": {},
   "source": [
    "### Deployment\n",
    "\n",
    "#### The model can be transitioned into production through strategic integration into crime monitoring and public safety systems. The deployment plan involves:\n",
    "#### Operationalizing cluster insights for use in daily or weekly police patrolling schedules, targeting identified high-risk zones and vulnerable demographics.\n",
    "#### Launching targeted outreach programs, such as:\n",
    "#### Senior safety awareness for clusters involving elderly victims.\n",
    "#### Women’s safety initiatives in areas with high female victimization rates.\n",
    "#### Scheduling automated updates to ingest new crime data (weekly or monthly), enabling the system to reflect the latest crime trends and support dynamic resource allocation.\n",
    "\n",
    "### Implementation Steps:\n",
    "#### To support this deployment, a crime analytics pipeline can be developed with the following components:\n",
    "#### Data Ingestion: Automatically retrieve updated crime records.\n",
    "#### Data Preprocessing: Filter relevant features, apply encoding, and scale inputs.\n",
    "#### Cluster Labeling: Apply the trained Gaussian Mixture Model to assign clusters.\n",
    "#### Visualization: Display crime patterns on an interactive map with clustering overlays.\n",
    "#### Alert Generation: Identify and flag high-risk areas or vulnerable population groups like elderly or women.\n",
    "\n",
    "### Deployment Infrastructure:\n",
    "#### This solution can be hosted on scalable cloud platforms such as AWS, Azure, or Google Cloud to ensure high availability and cost effective scaling along with real time integration with police enforcement systems.\n"
   ]
  },
  {
   "cell_type": "markdown",
   "metadata": {},
   "source": [
    "###"
   ]
  }
 ],
 "metadata": {
  "colab": {
   "provenance": [],
   "toc_visible": true
  },
  "kernelspec": {
   "display_name": "Python 3 (ipykernel)",
   "language": "python",
   "name": "python3"
  },
  "language_info": {
   "codemirror_mode": {
    "name": "ipython",
    "version": 3
   },
   "file_extension": ".py",
   "mimetype": "text/x-python",
   "name": "python",
   "nbconvert_exporter": "python",
   "pygments_lexer": "ipython3",
   "version": "3.10.8"
  }
 },
 "nbformat": 4,
 "nbformat_minor": 4
}
